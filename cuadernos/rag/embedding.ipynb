{
 "cells": [
  {
   "cell_type": "code",
   "execution_count": 1,
   "id": "fe6a3df3",
   "metadata": {},
   "outputs": [
    {
     "name": "stderr",
     "output_type": "stream",
     "text": [
      "/home/nicolas/Escritorio/Inteligencia_Artificial/Inteligencia Artificial/proyecto/Proyecto_IA_Turistica/venv/lib/python3.10/site-packages/tqdm/auto.py:21: TqdmWarning: IProgress not found. Please update jupyter and ipywidgets. See https://ipywidgets.readthedocs.io/en/stable/user_install.html\n",
      "  from .autonotebook import tqdm as notebook_tqdm\n",
      "2025-10-07 00:33:04,828 - INFO - Inicio del notebook 'embedding.ipynb'. Librerías importadas y logging configurado.\n"
     ]
    }
   ],
   "source": [
    "# [1]\n",
    "import torch\n",
    "import pandas as pd\n",
    "import json\n",
    "import os\n",
    "import logging\n",
    "from sentence_transformers import SentenceTransformer\n",
    "\n",
    "# --- Configuración del Logging ---\n",
    "# Define el nombre del archivo de log basado en el nombre del notebook\n",
    "log_file = 'embedding.log'\n",
    "\n",
    "# Limpia handlers previos para evitar logs duplicados al re-ejecutar la celda\n",
    "for handler in logging.root.handlers[:]:\n",
    "    logging.root.removeHandler(handler)\n",
    "\n",
    "# Configura el logging para que escriba en un archivo y en la consola\n",
    "logging.basicConfig(\n",
    "    level=logging.INFO,\n",
    "    format='%(asctime)s - %(levelname)s - %(message)s',\n",
    "    handlers=[\n",
    "        logging.FileHandler(log_file),\n",
    "        logging.StreamHandler()\n",
    "    ]\n",
    ")\n",
    "\n",
    "# --- Configuración de Pandas ---\n",
    "pd.set_option('display.max_columns', None)\n",
    "pd.set_option('display.max_rows', 100)\n",
    "pd.set_option('display.float_format', lambda x: '%.3f' % x)\n",
    "pd.set_option('display.width', 1000) \n",
    "\n",
    "logging.info(\"Inicio del notebook 'embedding.ipynb'. Librerías importadas y logging configurado.\")"
   ]
  },
  {
   "cell_type": "code",
   "execution_count": 3,
   "id": "22f094f7",
   "metadata": {},
   "outputs": [
    {
     "name": "stderr",
     "output_type": "stream",
     "text": [
      "2025-10-07 00:08:37,954 - INFO - Éxito: Se cargaron 2470 registros desde '../../datos_limpios/sitios_cali_maestro.csv'.\n"
     ]
    },
    {
     "data": {
      "text/html": [
       "<div>\n",
       "<style scoped>\n",
       "    .dataframe tbody tr th:only-of-type {\n",
       "        vertical-align: middle;\n",
       "    }\n",
       "\n",
       "    .dataframe tbody tr th {\n",
       "        vertical-align: top;\n",
       "    }\n",
       "\n",
       "    .dataframe thead th {\n",
       "        text-align: right;\n",
       "    }\n",
       "</style>\n",
       "<table border=\"1\" class=\"dataframe\">\n",
       "  <thead>\n",
       "    <tr style=\"text-align: right;\">\n",
       "      <th></th>\n",
       "      <th>place_id</th>\n",
       "      <th>nombre</th>\n",
       "      <th>direccion</th>\n",
       "      <th>tipo_territorio</th>\n",
       "      <th>departamento</th>\n",
       "      <th>pais</th>\n",
       "      <th>latitud</th>\n",
       "      <th>longitud</th>\n",
       "      <th>calificacion</th>\n",
       "      <th>total_calificaciones</th>\n",
       "      <th>comentarios</th>\n",
       "      <th>nivel_precios</th>\n",
       "      <th>telefono</th>\n",
       "      <th>tipo_telefono</th>\n",
       "      <th>sitio_web</th>\n",
       "      <th>entrada_accesible</th>\n",
       "      <th>es_reservable</th>\n",
       "      <th>estado_negocio</th>\n",
       "      <th>tags</th>\n",
       "      <th>abre_lunes</th>\n",
       "      <th>abre_martes</th>\n",
       "      <th>abre_miercoles</th>\n",
       "      <th>abre_jueves</th>\n",
       "      <th>abre_viernes</th>\n",
       "      <th>abre_sabado</th>\n",
       "      <th>abre_domingo</th>\n",
       "      <th>abierto_24h</th>\n",
       "      <th>fuente</th>\n",
       "      <th>direccion_original</th>\n",
       "    </tr>\n",
       "  </thead>\n",
       "  <tbody>\n",
       "    <tr>\n",
       "      <th>0</th>\n",
       "      <td>ChIJ4ym1rp-mMI4RdMtQYqwmVGE</td>\n",
       "      <td>la casona valluna</td>\n",
       "      <td>carrera 38d numero 4c - 54 nueva granada</td>\n",
       "      <td>Ciudad</td>\n",
       "      <td>Valle del Cauca</td>\n",
       "      <td>Colombia</td>\n",
       "      <td>3.426</td>\n",
       "      <td>-76.546</td>\n",
       "      <td>4.400</td>\n",
       "      <td>3865.000</td>\n",
       "      <td>terrible experiencia, las marranitas llegaron ...</td>\n",
       "      <td>Normal</td>\n",
       "      <td>+57 310 4472694</td>\n",
       "      <td>Móvil</td>\n",
       "      <td>http://www.lacasonavalluna.com/</td>\n",
       "      <td>True</td>\n",
       "      <td>True</td>\n",
       "      <td>operational</td>\n",
       "      <td>['establishment', 'food', 'point_of_interest',...</td>\n",
       "      <td>True</td>\n",
       "      <td>True</td>\n",
       "      <td>True</td>\n",
       "      <td>True</td>\n",
       "      <td>True</td>\n",
       "      <td>True</td>\n",
       "      <td>True</td>\n",
       "      <td>False</td>\n",
       "      <td>Google API</td>\n",
       "      <td>cra. 38d #4c - 54, nueva granada, cali, valle ...</td>\n",
       "    </tr>\n",
       "    <tr>\n",
       "      <th>1</th>\n",
       "      <td>ChIJ0eAQM2ymMI4RINEvdgewB84</td>\n",
       "      <td>cantina la 15 granada cali norte</td>\n",
       "      <td>calle 15 norte numero 9n-62 santa monica resid...</td>\n",
       "      <td>Ciudad</td>\n",
       "      <td>Valle del Cauca</td>\n",
       "      <td>Colombia</td>\n",
       "      <td>3.460</td>\n",
       "      <td>-76.534</td>\n",
       "      <td>4.600</td>\n",
       "      <td>6021.000</td>\n",
       "      <td>un lugar donde visitas y quieres volver. muy a...</td>\n",
       "      <td>Caro</td>\n",
       "      <td>+57 300 9133447</td>\n",
       "      <td>Móvil</td>\n",
       "      <td>https://www.cantinala15.com/</td>\n",
       "      <td>True</td>\n",
       "      <td>True</td>\n",
       "      <td>operational</td>\n",
       "      <td>['bar', 'establishment', 'food', 'point_of_int...</td>\n",
       "      <td>True</td>\n",
       "      <td>True</td>\n",
       "      <td>True</td>\n",
       "      <td>True</td>\n",
       "      <td>True</td>\n",
       "      <td>True</td>\n",
       "      <td>True</td>\n",
       "      <td>False</td>\n",
       "      <td>Google API</td>\n",
       "      <td>cl. 15 nte. #9n-62, santa monica residential, ...</td>\n",
       "    </tr>\n",
       "    <tr>\n",
       "      <th>2</th>\n",
       "      <td>ChIJK_ylEV2mMI4RA75TTO_cMZ4</td>\n",
       "      <td>restaurante los amigos</td>\n",
       "      <td>carrera 8 numero 20-41 san nicolas</td>\n",
       "      <td>Ciudad</td>\n",
       "      <td>Valle del Cauca</td>\n",
       "      <td>Colombia</td>\n",
       "      <td>3.452</td>\n",
       "      <td>-76.524</td>\n",
       "      <td>4.100</td>\n",
       "      <td>129.000</td>\n",
       "      <td>super, comida casera con un ambiente genial. |...</td>\n",
       "      <td>Económico</td>\n",
       "      <td>+57 602 8854000</td>\n",
       "      <td>Móvil</td>\n",
       "      <td>https://www.planetacolombia.com/amigos-restaur...</td>\n",
       "      <td>NaN</td>\n",
       "      <td>NaN</td>\n",
       "      <td>operational</td>\n",
       "      <td>['establishment', 'food', 'point_of_interest',...</td>\n",
       "      <td>True</td>\n",
       "      <td>True</td>\n",
       "      <td>True</td>\n",
       "      <td>True</td>\n",
       "      <td>True</td>\n",
       "      <td>True</td>\n",
       "      <td>True</td>\n",
       "      <td>True</td>\n",
       "      <td>Google API</td>\n",
       "      <td>cra. 8 #20-41, san nicolas, cali, valle del ca...</td>\n",
       "    </tr>\n",
       "  </tbody>\n",
       "</table>\n",
       "</div>"
      ],
      "text/plain": [
       "                      place_id                            nombre                                          direccion tipo_territorio     departamento      pais  latitud  longitud  calificacion  total_calificaciones                                        comentarios nivel_precios         telefono tipo_telefono                                          sitio_web entrada_accesible es_reservable estado_negocio                                               tags abre_lunes abre_martes abre_miercoles abre_jueves abre_viernes abre_sabado abre_domingo abierto_24h      fuente                                 direccion_original\n",
       "0  ChIJ4ym1rp-mMI4RdMtQYqwmVGE                 la casona valluna           carrera 38d numero 4c - 54 nueva granada          Ciudad  Valle del Cauca  Colombia    3.426   -76.546         4.400              3865.000  terrible experiencia, las marranitas llegaron ...        Normal  +57 310 4472694         Móvil                    http://www.lacasonavalluna.com/              True          True    operational  ['establishment', 'food', 'point_of_interest',...       True        True           True        True         True        True         True       False  Google API  cra. 38d #4c - 54, nueva granada, cali, valle ...\n",
       "1  ChIJ0eAQM2ymMI4RINEvdgewB84  cantina la 15 granada cali norte  calle 15 norte numero 9n-62 santa monica resid...          Ciudad  Valle del Cauca  Colombia    3.460   -76.534         4.600              6021.000  un lugar donde visitas y quieres volver. muy a...          Caro  +57 300 9133447         Móvil                       https://www.cantinala15.com/              True          True    operational  ['bar', 'establishment', 'food', 'point_of_int...       True        True           True        True         True        True         True       False  Google API  cl. 15 nte. #9n-62, santa monica residential, ...\n",
       "2  ChIJK_ylEV2mMI4RA75TTO_cMZ4            restaurante los amigos                 carrera 8 numero 20-41 san nicolas          Ciudad  Valle del Cauca  Colombia    3.452   -76.524         4.100               129.000  super, comida casera con un ambiente genial. |...     Económico  +57 602 8854000         Móvil  https://www.planetacolombia.com/amigos-restaur...               NaN           NaN    operational  ['establishment', 'food', 'point_of_interest',...       True        True           True        True         True        True         True        True  Google API  cra. 8 #20-41, san nicolas, cali, valle del ca..."
      ]
     },
     "metadata": {},
     "output_type": "display_data"
    }
   ],
   "source": [
    "# [2]\n",
    "# --- Carga de Datos ---\n",
    "# Se construye la ruta relativa desde la ubicación del notebook ('cuadernos/rag/') hasta el archivo.\n",
    "csv_file_path = '../../datos_limpios/sitios_cali_maestro.csv'\n",
    "df_sitios = None  # Inicializamos la variable para manejarla fuera del try/except\n",
    "\n",
    "try:\n",
    "    # Intenta cargar el archivo CSV en un DataFrame de Pandas\n",
    "    df_sitios = pd.read_csv(csv_file_path)\n",
    "    logging.info(f\"Éxito: Se cargaron {len(df_sitios)} registros desde '{csv_file_path}'.\")\n",
    "except FileNotFoundError:\n",
    "    # Manejo de error si el archivo no se encuentra en la ruta especificada\n",
    "    logging.error(f\"No se pudo encontrar el archivo en la ruta: '{csv_file_path}'\")\n",
    "    logging.error(f\"Ubicación actual de ejecución: {os.getcwd()}\")\n",
    "    print(\"Error: Archivo no encontrado. Revisa la ruta en la celda y la estructura de directorios.\")\n",
    "\n",
    "# Visualización de las primeras filas para confirmar la carga\n",
    "if df_sitios is not None:\n",
    "    display(df_sitios.head(3))"
   ]
  },
  {
   "cell_type": "code",
   "execution_count": 4,
   "id": "7a31d259",
   "metadata": {},
   "outputs": [
    {
     "name": "stderr",
     "output_type": "stream",
     "text": [
      "2025-10-07 00:08:37,974 - INFO - Preprocesamiento completado: Valores nulos en 'tags', 'nivel_precios' y 'comentarios' han sido rellenados.\n"
     ]
    },
    {
     "name": "stdout",
     "output_type": "stream",
     "text": [
      "Limpieza de datos nulos completada.\n"
     ]
    }
   ],
   "source": [
    "# [3]\n",
    "# --- Limpieza de Datos ---\n",
    "# Solo se ejecuta si el DataFrame se cargó correctamente en la celda anterior\n",
    "if df_sitios is not None:\n",
    "    # Rellenamos valores NaN (nulos) con textos por defecto para evitar errores.\n",
    "    # Esto garantiza que cada campo tenga un valor antes de crear el documento semántico.\n",
    "    df_sitios['tags'] = df_sitios['tags'].fillna('No especificado')\n",
    "    df_sitios['nivel_precios'] = df_sitios['nivel_precios'].fillna('No especificado')\n",
    "    df_sitios['comentarios'] = df_sitios['comentarios'].fillna('Sin opiniones.')\n",
    "    logging.info(\"Preprocesamiento completado: Valores nulos en 'tags', 'nivel_precios' y 'comentarios' han sido rellenados.\")\n",
    "    print(\"Limpieza de datos nulos completada.\")\n",
    "else:\n",
    "    logging.warning(\"El DataFrame 'df_sitios' no está cargado. Se omite la limpieza.\")"
   ]
  },
  {
   "cell_type": "code",
   "execution_count": 5,
   "id": "1e0c4438",
   "metadata": {},
   "outputs": [
    {
     "name": "stderr",
     "output_type": "stream",
     "text": [
      "2025-10-07 00:08:38,010 - INFO - DataFrame transformado a una lista de 2470 diccionarios (JSON).\n",
      "2025-10-07 00:08:38,015 - INFO - Corpus de 2470 documentos semánticos creado.\n"
     ]
    },
    {
     "name": "stdout",
     "output_type": "stream",
     "text": [
      "--- Ejemplo de 'Documento Semántico' ---\n",
      "Nombre del lugar: la casona valluna. Categorías: ['establishment', 'food', 'point_of_interest', 'restaurant']. Nivel de precios: Normal. Ubicación: carrera 38d numero 4c - 54 nueva granada. Opiniones de los visitantes: terrible experiencia, las marranitas llegaron rápido, pero todos los demás platos se demoraron más de una hora, tuvimos que preguntar varias veces por la comida, y siempre parecía que no tenían ni idea. finalmente les dijimos que nos íbamos a ir, y entonces en ese momento si entregaron la comida. la verdad si piensa ir, pues sólo marranitas, aborrajado y eso tipo de cosas que ya las tienen listas. .  hice un pedido de 100 empanadas y casi otros 100 entre marranitas y aborrajados y llegaron empacados en dos cajas, en las cuales todo venía amontonado y la mitad de los productos venían aplastados por el peso de las demás cosas, en una masa de grasa y rellenos qué no se sabía qué era qué. el ají, en vez de mandar un recipiente grande con las cantidades equivalentes para el tamaño del pedido, deciden mandar un montón de emvases plásticos minúsculos y desechables de plástico, cosa que aparte de engorrosa al momento de servir genera bastante basura innecesaria. la calidad de los productos es muy regular, porque la mayor parte del relleno es papa, maduro y maíz, y la carne, chicharrón y queso eran minúsculos. además todo estaba demasiado grasoso y pot ejemplo las empanadas que uno espera sean crocantes, llegaron tan blandas que parecían hechas el día anterior. terrible la calidad de todo. desde los empaques, el servicio al cliente y la calidad de los productos. jamás volveré a pedir o recomendar este sitio. .  no me gustó. los precios son altos para lo que realmente ofrecen, pedí pensando que si era caro y todo pequeño seguro era porque tenían una sazón buenísima y no, no vale la pena comprar una empanada casi vacía y sin sabor en 3mil pesos, todo estaba escurriendo gotas de aceite, las salsas tampoco eran nada impresionante, la empanadas de verdad que me parecieron muy malas para lo que piden, lo menos malo fueron las papas rellenas (que ni huevo tenían, así sea uno de codorniz o un cuarto de un huevo) pero de resto, las marranitas estaban blandas y los aborrajados desabridos… por ese precio sería justo o algo más grande o algo con más sabor. además algunas salsas sabían como si estuvieran pasadas. ojalá mejoren eso. pd: faltaron dos papas rellenas en mi pedido. .  espantoso, imposible de comer ya no son lo mismo que antes, es increible como un negocio puede caer tan bajo y hablo estrictamente de la comida. pedimos una picada para dos personas... el chorizo frio y prácticamente crudo con poca cocción, una masa amarilla en forma de coca que nunca supimos que era.., las empanadas de masa gruesa muy poco crocantes y con sabor a grasa vieja, el chunchulo tuvimos que desecharlo porque era literalmente imposible de comer, parecía un chicle viejo y sin ningun sabor. lo único que medio se salvó fue el trozo de res que si edtaba blando y otro de pollo que también se pudo comer. el bofe no estaba duro pero tampoco tenia sabor alguno, parecia que lo habian congelado, descongelado y recalentado, ni que hablar del chicharrón, juzguen uds mismos en el video, parece chicharrón de vitrina de bombillo de hace 3 dias como caucho de neumático. en resumen este negocio para mí ya no existe, qué pesar. el domicilio tardó una hora y 40 minutos en llegar. fueron amables en su atención, todo hay que decirlo. .  tenía un recuerdo bonito de infancia porque sus empanadas eran lo mejor. su comida a veces buena a veces no. vinimos a almorzar una tarde y todo excelente pero traje a cenar a la familia del extranjero una noche de lunes y la verdad.. un poco decepcionada. de todo los que pedimos nada fresco, ni el chunchulo, ni el bofe, menos el chorizo… parecían dwscongelados sin buena cocción. el churrasco… en verdad muy frustrante que poco bueno. los aborrajados de maduro pasaron la prueba y las empanadas hasta donde recuerdo pasan también la prueba.\n"
     ]
    }
   ],
   "source": [
    "# [4]\n",
    "# --- Ingeniería del Documento Semántico ---\n",
    "\n",
    "def crear_documento_semantico(sitio: dict) -> str:\n",
    "    \"\"\"Crea un único documento de texto a partir de un diccionario (JSON) de un sitio turístico.\"\"\"\n",
    "    nombre = sitio.get('nombre', 'Nombre no disponible')\n",
    "    tags = sitio.get('tags', 'No especificado')\n",
    "    nivel_precios = sitio.get('nivel_precios', 'No especificado')\n",
    "    direccion = sitio.get('direccion', 'Ubicación no disponible')\n",
    "    comentarios = sitio.get('comentarios', 'Sin opiniones.').replace('|', '. ')\n",
    "    \n",
    "    return (\n",
    "        f\"Nombre del lugar: {nombre}. Categorías: {tags}. \"\n",
    "        f\"Nivel de precios: {nivel_precios}. Ubicación: {direccion}. \"\n",
    "        f\"Opiniones de los visitantes: {comentarios}\"\n",
    "    )\n",
    "\n",
    "if df_sitios is not None:\n",
    "    # 1. Transformar el DataFrame a una lista de diccionarios (formato JSON)\n",
    "    lista_sitios_json = df_sitios.to_dict(orient='records')\n",
    "    logging.info(f\"DataFrame transformado a una lista de {len(lista_sitios_json)} diccionarios (JSON).\")\n",
    "\n",
    "    # 2. Crear la lista de documentos semánticos (corpus) para el embedding\n",
    "    corpus_documentos = [crear_documento_semantico(sitio) for sitio in lista_sitios_json]\n",
    "    logging.info(f\"Corpus de {len(corpus_documentos)} documentos semánticos creado.\")\n",
    "\n",
    "    # Imprimimos un ejemplo para verificar\n",
    "    print(\"--- Ejemplo de 'Documento Semántico' ---\")\n",
    "    print(corpus_documentos[0])\n",
    "else:\n",
    "    logging.warning(\"El DataFrame no está cargado. Se omite la creación del documento semántico.\")"
   ]
  },
  {
   "cell_type": "code",
   "execution_count": 6,
   "id": "4d35899c",
   "metadata": {},
   "outputs": [
    {
     "name": "stderr",
     "output_type": "stream",
     "text": [
      "2025-10-07 00:08:38,022 - INFO - Cargando el modelo de embedding 'paraphrase-multilingual-mpnet-base-v2'...\n",
      "2025-10-07 00:08:38,024 - INFO - Use pytorch device_name: cpu\n",
      "2025-10-07 00:08:38,025 - INFO - Load pretrained SentenceTransformer: paraphrase-multilingual-mpnet-base-v2\n",
      "2025-10-07 00:08:41,787 - INFO - Modelo de embedding cargado exitosamente en memoria.\n"
     ]
    },
    {
     "name": "stdout",
     "output_type": "stream",
     "text": [
      "Modelo de embedding cargado exitosamente.\n"
     ]
    }
   ],
   "source": [
    "# [5]\n",
    "# --- Carga del Modelo de Embedding ---\n",
    "# Se carga un modelo multilingüe, ideal para proyectos escalables.\n",
    "# La primera vez que se ejecute, se descargará automáticamente.\n",
    "try:\n",
    "    logging.info(\"Cargando el modelo de embedding 'paraphrase-multilingual-mpnet-base-v2'...\")\n",
    "    model = SentenceTransformer('paraphrase-multilingual-mpnet-base-v2')\n",
    "    logging.info(\"Modelo de embedding cargado exitosamente en memoria.\")\n",
    "    print(\"Modelo de embedding cargado exitosamente.\")\n",
    "except Exception as e:\n",
    "    logging.critical(f\"No se pudo cargar el modelo de SentenceTransformer. Error: {e}\")\n",
    "    print(f\"Error crítico: No se pudo cargar el modelo. Verifica tu conexión a internet o la instalación de la librería.\")"
   ]
  },
  {
   "cell_type": "code",
   "execution_count": 7,
   "id": "9bc0a51d",
   "metadata": {},
   "outputs": [
    {
     "name": "stderr",
     "output_type": "stream",
     "text": [
      "2025-10-07 00:08:41,793 - INFO - Iniciando la generación de embeddings para 2470 documentos.\n",
      "Batches: 100%|██████████| 78/78 [04:00<00:00,  3.08s/it]\n",
      "2025-10-07 00:12:42,448 - INFO - Proceso de embedding completado. Se generó una matriz de forma: torch.Size([2470, 768])\n"
     ]
    },
    {
     "name": "stdout",
     "output_type": "stream",
     "text": [
      "\n",
      "--- ¡Proceso de Embedding Completado! ---\n",
      "Forma de la matriz de embeddings: torch.Size([2470, 768])\n",
      "Cada uno de los 2470 sitios ahora está representado por un vector de 768 dimensiones.\n"
     ]
    }
   ],
   "source": [
    "# [6]\n",
    "# --- Generación de los Embeddings ---\n",
    "# Esta es la parte computacionalmente más intensiva.\n",
    "# 'model.encode' convierte la lista de textos en una matriz numérica (Tensor).\n",
    "if 'corpus_documentos' in locals() and 'model' in locals():\n",
    "    logging.info(f\"Iniciando la generación de embeddings para {len(corpus_documentos)} documentos.\")\n",
    "    embeddings = model.encode(corpus_documentos, show_progress_bar=True, convert_to_tensor=True)\n",
    "    logging.info(f\"Proceso de embedding completado. Se generó una matriz de forma: {embeddings.shape}\")\n",
    "\n",
    "    print(\"\\n--- ¡Proceso de Embedding Completado! ---\")\n",
    "    print(f\"Forma de la matriz de embeddings: {embeddings.shape}\")\n",
    "    print(f\"Cada uno de los {embeddings.shape[0]} sitios ahora está representado por un vector de {embeddings.shape[1]} dimensiones.\")\n",
    "else:\n",
    "    logging.warning(\"No se puede generar embeddings porque el corpus o el modelo no están definidos.\")"
   ]
  },
  {
   "cell_type": "code",
   "execution_count": 8,
   "id": "4817271b",
   "metadata": {},
   "outputs": [
    {
     "name": "stdout",
     "output_type": "stream",
     "text": [
      "\n",
      "--- Muestra de la Matriz de Embeddings (Primeros 5 sitios, Primeras 10 dimensiones) ---\n"
     ]
    },
    {
     "data": {
      "text/html": [
       "<div>\n",
       "<style scoped>\n",
       "    .dataframe tbody tr th:only-of-type {\n",
       "        vertical-align: middle;\n",
       "    }\n",
       "\n",
       "    .dataframe tbody tr th {\n",
       "        vertical-align: top;\n",
       "    }\n",
       "\n",
       "    .dataframe thead th {\n",
       "        text-align: right;\n",
       "    }\n",
       "</style>\n",
       "<table border=\"1\" class=\"dataframe\">\n",
       "  <thead>\n",
       "    <tr style=\"text-align: right;\">\n",
       "      <th></th>\n",
       "      <th>dim_1</th>\n",
       "      <th>dim_2</th>\n",
       "      <th>dim_3</th>\n",
       "      <th>dim_4</th>\n",
       "      <th>dim_5</th>\n",
       "      <th>dim_6</th>\n",
       "      <th>dim_7</th>\n",
       "      <th>dim_8</th>\n",
       "      <th>dim_9</th>\n",
       "      <th>dim_10</th>\n",
       "    </tr>\n",
       "  </thead>\n",
       "  <tbody>\n",
       "    <tr>\n",
       "      <th>la casona valluna</th>\n",
       "      <td>0.048</td>\n",
       "      <td>0.105</td>\n",
       "      <td>-0.011</td>\n",
       "      <td>-0.028</td>\n",
       "      <td>0.018</td>\n",
       "      <td>0.001</td>\n",
       "      <td>-0.010</td>\n",
       "      <td>0.031</td>\n",
       "      <td>0.010</td>\n",
       "      <td>0.127</td>\n",
       "    </tr>\n",
       "    <tr>\n",
       "      <th>cantina la 15 granada cali norte</th>\n",
       "      <td>-0.084</td>\n",
       "      <td>0.179</td>\n",
       "      <td>-0.012</td>\n",
       "      <td>-0.003</td>\n",
       "      <td>-0.022</td>\n",
       "      <td>-0.020</td>\n",
       "      <td>-0.064</td>\n",
       "      <td>0.004</td>\n",
       "      <td>0.012</td>\n",
       "      <td>0.176</td>\n",
       "    </tr>\n",
       "    <tr>\n",
       "      <th>restaurante los amigos</th>\n",
       "      <td>-0.021</td>\n",
       "      <td>0.162</td>\n",
       "      <td>-0.007</td>\n",
       "      <td>-0.066</td>\n",
       "      <td>-0.081</td>\n",
       "      <td>0.059</td>\n",
       "      <td>-0.117</td>\n",
       "      <td>0.051</td>\n",
       "      <td>0.047</td>\n",
       "      <td>0.131</td>\n",
       "    </tr>\n",
       "    <tr>\n",
       "      <th>storia damore granada</th>\n",
       "      <td>-0.098</td>\n",
       "      <td>0.129</td>\n",
       "      <td>-0.009</td>\n",
       "      <td>0.040</td>\n",
       "      <td>-0.037</td>\n",
       "      <td>0.020</td>\n",
       "      <td>-0.053</td>\n",
       "      <td>0.053</td>\n",
       "      <td>0.070</td>\n",
       "      <td>0.143</td>\n",
       "    </tr>\n",
       "    <tr>\n",
       "      <th>restaurante sazn pacfico colombiano</th>\n",
       "      <td>-0.059</td>\n",
       "      <td>0.244</td>\n",
       "      <td>-0.009</td>\n",
       "      <td>0.006</td>\n",
       "      <td>-0.014</td>\n",
       "      <td>-0.037</td>\n",
       "      <td>-0.108</td>\n",
       "      <td>-0.001</td>\n",
       "      <td>-0.085</td>\n",
       "      <td>0.152</td>\n",
       "    </tr>\n",
       "  </tbody>\n",
       "</table>\n",
       "</div>"
      ],
      "text/plain": [
       "                                     dim_1  dim_2  dim_3  dim_4  dim_5  dim_6  dim_7  dim_8  dim_9  dim_10\n",
       "la casona valluna                    0.048  0.105 -0.011 -0.028  0.018  0.001 -0.010  0.031  0.010   0.127\n",
       "cantina la 15 granada cali norte    -0.084  0.179 -0.012 -0.003 -0.022 -0.020 -0.064  0.004  0.012   0.176\n",
       "restaurante los amigos              -0.021  0.162 -0.007 -0.066 -0.081  0.059 -0.117  0.051  0.047   0.131\n",
       "storia damore granada               -0.098  0.129 -0.009  0.040 -0.037  0.020 -0.053  0.053  0.070   0.143\n",
       "restaurante sazn pacfico colombiano -0.059  0.244 -0.009  0.006 -0.014 -0.037 -0.108 -0.001 -0.085   0.152"
      ]
     },
     "metadata": {},
     "output_type": "display_data"
    },
    {
     "name": "stderr",
     "output_type": "stream",
     "text": [
      "2025-10-07 00:12:42,468 - INFO - Se ha mostrado una muestra de la matriz de embeddings generada.\n"
     ]
    }
   ],
   "source": [
    "# [7]\n",
    "# --- Visualización de una Muestra de la Matriz de Embeddings ---\n",
    "# Convertimos el tensor a un DataFrame de Pandas para una visualización más amigable.\n",
    "# Esto es solo para inspección; en producción, se usaría el tensor directamente.\n",
    "if 'embeddings' in locals():\n",
    "    # Tomamos una muestra: las primeras 5 filas (sitios) y las primeras 10 dimensiones (columnas) del vector.\n",
    "    muestra_embeddings_df = pd.DataFrame(embeddings.cpu().numpy()[:5, :10])\n",
    "    \n",
    "    # Asignamos nombres a las columnas para mayor claridad\n",
    "    muestra_embeddings_df.columns = [f'dim_{i+1}' for i in range(10)]\n",
    "    \n",
    "    # Asignamos el nombre del sitio como índice para saber a qué corresponde cada vector\n",
    "    muestra_embeddings_df.index = [sitio.get('nombre', 'N/A') for sitio in lista_sitios_json[:5]]\n",
    "    \n",
    "    print(\"\\n--- Muestra de la Matriz de Embeddings (Primeros 5 sitios, Primeras 10 dimensiones) ---\")\n",
    "    display(muestra_embeddings_df)\n",
    "    logging.info(\"Se ha mostrado una muestra de la matriz de embeddings generada.\")\n",
    "else:\n",
    "    logging.warning(\"La matriz de embeddings no existe para ser visualizada.\")"
   ]
  },
  {
   "cell_type": "code",
   "execution_count": 9,
   "id": "231defaf",
   "metadata": {},
   "outputs": [
    {
     "name": "stderr",
     "output_type": "stream",
     "text": [
      "2025-10-07 00:12:42,489 - INFO - Tensor de embeddings guardado exitosamente en: '../../datos_limpios/embeddings.pt'\n"
     ]
    },
    {
     "name": "stderr",
     "output_type": "stream",
     "text": [
      "2025-10-07 00:12:42,623 - INFO - Datos de los sitios guardados en formato JSON en: '../../datos_limpios/sitios_cali_maestro.json'\n"
     ]
    },
    {
     "name": "stdout",
     "output_type": "stream",
     "text": [
      "Embeddings guardados en: '../../datos_limpios/embeddings.pt'\n",
      "Datos de los sitios guardados en: '../../datos_limpios/sitios_cali_maestro.json'\n"
     ]
    }
   ],
   "source": [
    "# [8]\n",
    "# --- Guardar Artefactos para su Uso en el Notebook de RAG ---\n",
    "\n",
    "if 'embeddings' in locals() and 'lista_sitios_json' in locals():\n",
    "    # 1. Definir las rutas de salida de forma relativa y segura\n",
    "    output_dir = '../../datos_limpios/'\n",
    "    embeddings_path = os.path.join(output_dir, 'embeddings.pt')\n",
    "    json_path = os.path.join(output_dir, 'sitios_cali_maestro.json')\n",
    "\n",
    "    # Crear el directorio si no existe\n",
    "    os.makedirs(output_dir, exist_ok=True)\n",
    "\n",
    "    # 2. Guardar el tensor de embeddings usando PyTorch\n",
    "    # torch.save es la forma nativa y más eficiente de guardar tensores.\n",
    "    torch.save(embeddings, embeddings_path)\n",
    "    logging.info(f\"Tensor de embeddings guardado exitosamente en: '{embeddings_path}'\")\n",
    "    print(f\"Embeddings guardados en: '{embeddings_path}'\")\n",
    "\n",
    "    # 3. Guardar la lista de sitios en formato JSON (si aún no se ha hecho o para asegurar que esté actualizada)\n",
    "    with open(json_path, 'w', encoding='utf-8') as f:\n",
    "        json.dump(lista_sitios_json, f, ensure_ascii=False, indent=4)\n",
    "    logging.info(f\"Datos de los sitios guardados en formato JSON en: '{json_path}'\")\n",
    "    print(f\"Datos de los sitios guardados en: '{json_path}'\")\n",
    "\n",
    "else:\n",
    "    logging.warning(\"No se guardaron los artefactos porque los embeddings o la lista de sitios no están definidos.\")\n",
    "    print(\"Advertencia: No se guardaron los archivos porque las variables 'embeddings' o 'lista_sitios_json' no se encontraron.\")"
   ]
  }
 ],
 "metadata": {
  "kernelspec": {
   "display_name": "venv",
   "language": "python",
   "name": "python3"
  },
  "language_info": {
   "codemirror_mode": {
    "name": "ipython",
    "version": 3
   },
   "file_extension": ".py",
   "mimetype": "text/x-python",
   "name": "python",
   "nbconvert_exporter": "python",
   "pygments_lexer": "ipython3",
   "version": "3.10.12"
  }
 },
 "nbformat": 4,
 "nbformat_minor": 5
}
